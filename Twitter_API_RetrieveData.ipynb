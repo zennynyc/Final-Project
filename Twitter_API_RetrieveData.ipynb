{
 "cells": [
  {
   "cell_type": "code",
   "execution_count": 5,
   "metadata": {},
   "outputs": [],
   "source": [
    "from tweepy import API \n",
    "from tweepy import Cursor\n",
    "from tweepy.streaming import StreamListener\n",
    "from tweepy import OAuthHandler\n",
    "from tweepy import Stream\n",
    " \n",
    "import twitter_credentials\n",
    "import numpy as np\n",
    "import pandas as pd\n",
    "import matplotlib as plt\n",
    "\n",
    "import sys\n",
    "import os\n",
    "import jsonpickle\n",
    "import tweepy"
   ]
  },
  {
   "cell_type": "code",
   "execution_count": 3,
   "metadata": {},
   "outputs": [],
   "source": [
    "#Pass our consumer key and consumer secret to Tweepy's user authentication handler\n",
    "auth = tweepy.OAuthHandler(twitter_credentials.CONSUMER_KEY, twitter_credentials.CONSUMER_SECRET)\n",
    "\n",
    "#Pass our access token and access secret to Tweepy's user authentication handler\n",
    "auth.set_access_token(twitter_credentials.ACCESS_TOKEN, twitter_credentials.ACCESS_TOKEN_SECRET)\n",
    "\n",
    "#Creating a twitter API wrapper using tweepy\n",
    "#Details here http://docs.tweepy.org/en/v3.5.0/api.html\n",
    "api = tweepy.API(auth)\n",
    "\n",
    "#Error handling\n",
    "if (not api):\n",
    "    print (\"Problem connecting to API\")"
   ]
  },
  {
   "cell_type": "code",
   "execution_count": 4,
   "metadata": {},
   "outputs": [
    {
     "name": "stdout",
     "output_type": "stream",
     "text": [
      "USA id is:  96683cc9126741d1\n"
     ]
    }
   ],
   "source": [
    "places = api.geo_search(query=\"USA\", granularity=\"country\")\n",
    "place_id = places[0].id\n",
    "print('USA id is: ',place_id)"
   ]
  },
  {
   "cell_type": "code",
   "execution_count": 23,
   "metadata": {},
   "outputs": [
    {
     "data": {
      "text/plain": [
       "{'/search/tweets': {'limit': 450, 'remaining': 145, 'reset': 1597527592}}"
      ]
     },
     "execution_count": 23,
     "metadata": {},
     "output_type": "execute_result"
    }
   ],
   "source": [
    "api.rate_limit_status()['resources']['search']"
   ]
  },
  {
   "cell_type": "code",
   "execution_count": 7,
   "metadata": {},
   "outputs": [],
   "source": [
    "#Switching to application authentication\n",
    "auth = tweepy.AppAuthHandler(twitter_credentials.CONSUMER_KEY, twitter_credentials.CONSUMER_SECRET)\n",
    "\n",
    "#Setting up new api wrapper, using authentication only\n",
    "api = tweepy.API(auth, wait_on_rate_limit=True,wait_on_rate_limit_notify=True)\n",
    " \n",
    "#Error handling\n",
    "if (not api):\n",
    "    print (\"Problem Connecting to API\")"
   ]
  },
  {
   "cell_type": "code",
   "execution_count": 8,
   "metadata": {},
   "outputs": [],
   "source": []
  },
  {
   "cell_type": "code",
   "execution_count": 108,
   "metadata": {},
   "outputs": [],
   "source": [
    "# searchQuery = 'place:96683cc9126741d1 since:2020-08-13 until:2020-08-14 \"corona\" OR #corona OR \"coronavirus\" OR #coronavirus OR \"covid\" OR #covid' \n",
    "searchQuery = 'place:96683cc9126741d1 since:2020-08-15 until:2020-08-16 \"corona\" OR #corona OR \"coronavirus\" OR #coronavirus OR \"covid\" OR #covid OR \"covid19\" OR #covid-19 OR'\\\n",
    "              '\"sarscov2\" OR #sarscov2 OR \"sars cov2\" OR \"sars cov 2\" OR \"covid_19\" OR #covid_19 OR #ncov OR \"ncov\" OR #ncov2019 OR \"ncov2019\" OR \"2019-ncov\" OR #2019-ncov OR'\\\n",
    "              '\"pandemic\" OR #pandemic OR #2019ncov OR \"2019ncov\"'\n",
    " \n",
    "#Maximum number of tweets we want to collect \n",
    "maxTweets = 5000\n",
    "maxReads = 10000\n",
    "\n",
    "#The twitter Search API allows up to 100 tweets per query\n",
    "#tweetsPerQry = 100\n",
    "#date_since = \"2020-08-16\""
   ]
  },
  {
   "cell_type": "code",
   "execution_count": 109,
   "metadata": {},
   "outputs": [
    {
     "name": "stdout",
     "output_type": "stream",
     "text": [
      "Downloaded 5000 tweets\n",
      "Read 5303 tweets\n"
     ]
    }
   ],
   "source": [
    "tweetCount = 0\n",
    "tweetRead = 0\n",
    "#data_since = \"2020-08-12\"\n",
    "\n",
    "#Open a text file to save the tweets to\n",
    "with open('data15.json', 'w') as f:\n",
    "    #Tell the Cursor method that we want to use the Search API (api.search)\n",
    "    #Also tell Cursor our query, and the maximum number of tweets to return\n",
    "    for tweet in tweepy.Cursor(api.search,q=searchQuery,count=3000, tweet_mode='extended').items(maxReads):  \n",
    "        tweetRead += 1\n",
    "            \n",
    "        if tweet.lang == 'en':\n",
    "            #Write the JSON format to the text file, and add one to the number of tweets we've collected\n",
    "            f.write(jsonpickle.encode(tweet._json, unpicklable=False) + '\\n')\n",
    "            tweetCount += 1\n",
    "            if tweetCount == maxTweets:\n",
    "                break\n",
    "\n",
    "    #Display how many tweets we have collected\n",
    "    print(\"Downloaded {0} tweets\".format(tweetCount))\n",
    "    print(\"Read {0} tweets\".format(tweetRead))\n"
   ]
  },
  {
   "cell_type": "code",
   "execution_count": 195,
   "metadata": {},
   "outputs": [],
   "source": [
    "import json\n",
    "with open('data_final.json', 'w') as outfile:\n",
    "    json.dump(data, outfile)"
   ]
  },
  {
   "cell_type": "code",
   "execution_count": 193,
   "metadata": {},
   "outputs": [
    {
     "data": {
      "text/plain": [
       "'\"'"
      ]
     },
     "execution_count": 193,
     "metadata": {},
     "output_type": "execute_result"
    }
   ],
   "source": [
    "data_json[12]"
   ]
  },
  {
   "cell_type": "code",
   "execution_count": 187,
   "metadata": {},
   "outputs": [
    {
     "data": {
      "text/html": [
       "<div>\n",
       "<style scoped>\n",
       "    .dataframe tbody tr th:only-of-type {\n",
       "        vertical-align: middle;\n",
       "    }\n",
       "\n",
       "    .dataframe tbody tr th {\n",
       "        vertical-align: top;\n",
       "    }\n",
       "\n",
       "    .dataframe thead th {\n",
       "        text-align: right;\n",
       "    }\n",
       "</style>\n",
       "<table border=\"1\" class=\"dataframe\">\n",
       "  <thead>\n",
       "    <tr style=\"text-align: right;\">\n",
       "      <th></th>\n",
       "      <th>created_at</th>\n",
       "      <th>id</th>\n",
       "      <th>id_str</th>\n",
       "      <th>full_text</th>\n",
       "      <th>truncated</th>\n",
       "      <th>display_text_range</th>\n",
       "      <th>entities</th>\n",
       "      <th>metadata</th>\n",
       "      <th>source</th>\n",
       "      <th>in_reply_to_status_id</th>\n",
       "      <th>...</th>\n",
       "      <th>retweet_count</th>\n",
       "      <th>favorite_count</th>\n",
       "      <th>favorited</th>\n",
       "      <th>retweeted</th>\n",
       "      <th>lang</th>\n",
       "      <th>quoted_status_id</th>\n",
       "      <th>quoted_status_id_str</th>\n",
       "      <th>quoted_status</th>\n",
       "      <th>possibly_sensitive</th>\n",
       "      <th>extended_entities</th>\n",
       "    </tr>\n",
       "  </thead>\n",
       "  <tbody>\n",
       "    <tr>\n",
       "      <th>0</th>\n",
       "      <td>2020-08-08 23:59:41+00:00</td>\n",
       "      <td>1292249150797623297</td>\n",
       "      <td>1292249150797623296</td>\n",
       "      <td>@drrajivb Hi Dr. Bhatia. My wife and I are having some work done to our attic after some fire damage. There will be various workers in our house (mostly attic) for a week or so. Even if they are wearing PPE, should I worry about any Covid virus in the house before we move back?</td>\n",
       "      <td>False</td>\n",
       "      <td>[0, 278]</td>\n",
       "      <td>{'hashtags': [], 'symbols': [], 'user_mentions': [{'screen_name': 'drrajivb', 'name': 'Rajiv Bhatia, MD MPH', 'id': 1642187461, 'id_str': '1642187461', 'indices': [0, 9]}], 'urls': []}</td>\n",
       "      <td>{'iso_language_code': 'en', 'result_type': 'recent'}</td>\n",
       "      <td>&lt;a href=\"http://twitter.com/download/iphone\" rel=\"nofollow\"&gt;Twitter for iPhone&lt;/a&gt;</td>\n",
       "      <td>NaN</td>\n",
       "      <td>...</td>\n",
       "      <td>0</td>\n",
       "      <td>0</td>\n",
       "      <td>False</td>\n",
       "      <td>False</td>\n",
       "      <td>en</td>\n",
       "      <td>NaN</td>\n",
       "      <td>NaN</td>\n",
       "      <td>NaN</td>\n",
       "      <td>NaN</td>\n",
       "      <td>NaN</td>\n",
       "    </tr>\n",
       "    <tr>\n",
       "      <th>1</th>\n",
       "      <td>2020-08-08 23:59:25+00:00</td>\n",
       "      <td>1292249086666498048</td>\n",
       "      <td>1292249086666498048</td>\n",
       "      <td>The RNC has spent $20 million to prevent voting. In a pandemic during a depression. Someone woke up and thought, we need to prevent voting. https://t.co/c1KGjZiGRT</td>\n",
       "      <td>False</td>\n",
       "      <td>[0, 139]</td>\n",
       "      <td>{'hashtags': [], 'symbols': [], 'user_mentions': [], 'urls': [{'url': 'https://t.co/c1KGjZiGRT', 'expanded_url': 'https://twitter.com/radleybalko/status/1292214431850659840', 'display_url': 'twitter.com/radleybalko/st…', 'indices': [140, 163]}]}</td>\n",
       "      <td>{'iso_language_code': 'en', 'result_type': 'recent'}</td>\n",
       "      <td>&lt;a href=\"http://twitter.com/download/iphone\" rel=\"nofollow\"&gt;Twitter for iPhone&lt;/a&gt;</td>\n",
       "      <td>NaN</td>\n",
       "      <td>...</td>\n",
       "      <td>0</td>\n",
       "      <td>5</td>\n",
       "      <td>False</td>\n",
       "      <td>False</td>\n",
       "      <td>en</td>\n",
       "      <td>1.292214e+18</td>\n",
       "      <td>1.292214e+18</td>\n",
       "      <td>{'created_at': 'Sat Aug 08 21:41:43 +0000 2020', 'id': 1292214431850659840, 'id_str': '1292214431850659840', 'full_text': 'This is getting really goddamned dangerous. A sitting president is trying to change the rules mid-campaign, by fiat, as he trails in the polls, based on utter lies about voter fraud. This is some straight-up autocrat bullshit. \n",
       "\n",
       "https://t.co/nctCqki2fP', 'truncated': False, 'display_text_range': [0, 252], 'entities': {'hashtags': [], 'symbols': [], 'user_mentions': [], 'urls': [{'url': 'https://t.co/nctCqki2fP', 'expanded_url': 'https://www.politico.com/news/2020/08/08/trump-wants-to-cut-mail-in-voting-the-republican-machine-is-helping-him-392428', 'display_url': 'politico.com/news/2020/08/0…', 'indices': [229, 252]}]}, 'metadata': {'iso_language_code': 'en', 'result_type': 'recent'}, 'source': '&lt;a href=\"http://twitter.com/download/iphone\" rel=\"nofollow\"&gt;Twitter for iPhone&lt;/a&gt;', 'in_reply_to_status_id': None, 'in_reply_to_status_id_str': None, 'in_reply_to_user...</td>\n",
       "      <td>0.0</td>\n",
       "      <td>NaN</td>\n",
       "    </tr>\n",
       "    <tr>\n",
       "      <th>2</th>\n",
       "      <td>2020-08-08 23:59:05+00:00</td>\n",
       "      <td>1292249003841785856</td>\n",
       "      <td>1292249003841785856</td>\n",
       "      <td>Niggas be like I want some dick but I can't host and I'm not mobile...its 2020 and we're in the middle of a pandemic,learn some survival skills https://t.co/VRriaS8qPD</td>\n",
       "      <td>False</td>\n",
       "      <td>[0, 143]</td>\n",
       "      <td>{'hashtags': [], 'symbols': [], 'user_mentions': [], 'urls': [], 'media': [{'id': 1292248992106131465, 'id_str': '1292248992106131465', 'indices': [144, 167], 'media_url': 'http://pbs.twimg.com/tweet_video_thumb/Ee79nJfXsAkGoiI.jpg', 'media_url_https': 'https://pbs.twimg.com/tweet_video_thumb/Ee79nJfXsAkGoiI.jpg', 'url': 'https://t.co/VRriaS8qPD', 'display_url': 'pic.twitter.com/VRriaS8qPD', 'expanded_url': 'https://twitter.com/mylifendacloset/status/1292249003841785856/photo/1', 'type': 'photo', 'sizes': {'medium': {'w': 480, 'h': 270, 'resize': 'fit'}, 'thumb': {'w': 150, 'h': 150, 'resize': 'crop'}, 'small': {'w': 480, 'h': 270, 'resize': 'fit'}, 'large': {'w': 480, 'h': 270, 'resize': 'fit'}}}]}</td>\n",
       "      <td>{'iso_language_code': 'en', 'result_type': 'recent'}</td>\n",
       "      <td>&lt;a href=\"http://twitter.com/download/android\" rel=\"nofollow\"&gt;Twitter for Android&lt;/a&gt;</td>\n",
       "      <td>NaN</td>\n",
       "      <td>...</td>\n",
       "      <td>0</td>\n",
       "      <td>1</td>\n",
       "      <td>False</td>\n",
       "      <td>False</td>\n",
       "      <td>en</td>\n",
       "      <td>NaN</td>\n",
       "      <td>NaN</td>\n",
       "      <td>NaN</td>\n",
       "      <td>0.0</td>\n",
       "      <td>{'media': [{'id': 1292248992106131465, 'id_str': '1292248992106131465', 'indices': [144, 167], 'media_url': 'http://pbs.twimg.com/tweet_video_thumb/Ee79nJfXsAkGoiI.jpg', 'media_url_https': 'https://pbs.twimg.com/tweet_video_thumb/Ee79nJfXsAkGoiI.jpg', 'url': 'https://t.co/VRriaS8qPD', 'display_url': 'pic.twitter.com/VRriaS8qPD', 'expanded_url': 'https://twitter.com/mylifendacloset/status/1292249003841785856/photo/1', 'type': 'animated_gif', 'sizes': {'medium': {'w': 480, 'h': 270, 'resize': 'fit'}, 'thumb': {'w': 150, 'h': 150, 'resize': 'crop'}, 'small': {'w': 480, 'h': 270, 'resize': 'fit'}, 'large': {'w': 480, 'h': 270, 'resize': 'fit'}}, 'video_info': {'aspect_ratio': [16, 9], 'variants': [{'bitrate': 0, 'content_type': 'video/mp4', 'url': 'https://video.twimg.com/tweet_video/Ee79nJfXsAkGoiI.mp4'}]}}]}</td>\n",
       "    </tr>\n",
       "    <tr>\n",
       "      <th>3</th>\n",
       "      <td>2020-08-08 23:58:50+00:00</td>\n",
       "      <td>1292248938758668288</td>\n",
       "      <td>1292248938758668288</td>\n",
       "      <td>You really can't make this stuff up. As Columbia County suffers a #COVID19 spike due to golfing events. Sen. Jordan shows us just what those events looked like by attending a political golf event in Easton with NO MASKS and NO SOCIAL DISTANCING. #NewYork #MaskUp https://t.co/zeOe511KdM</td>\n",
       "      <td>False</td>\n",
       "      <td>[0, 262]</td>\n",
       "      <td>{'hashtags': [{'text': 'COVID19', 'indices': [66, 74]}, {'text': 'NewYork', 'indices': [246, 254]}, {'text': 'MaskUp', 'indices': [255, 262]}], 'symbols': [], 'user_mentions': [], 'urls': [], 'media': [{'id': 1292248932433764353, 'id_str': '1292248932433764353', 'indices': [263, 286], 'media_url': 'http://pbs.twimg.com/media/Ee79jrMXoAE64Q8.jpg', 'media_url_https': 'https://pbs.twimg.com/media/Ee79jrMXoAE64Q8.jpg', 'url': 'https://t.co/zeOe511KdM', 'display_url': 'pic.twitter.com/zeOe511KdM', 'expanded_url': 'https://twitter.com/PatFNelson/status/1292248938758668288/photo/1', 'type': 'photo', 'sizes': {'large': {'w': 1440, 'h': 1440, 'resize': 'fit'}, 'thumb': {'w': 150, 'h': 150, 'resize': 'crop'}, 'medium': {'w': 1200, 'h': 1200, 'resize': 'fit'}, 'small': {'w': 680, 'h': 680, 'resize': 'fit'}}}]}</td>\n",
       "      <td>{'iso_language_code': 'en', 'result_type': 'recent'}</td>\n",
       "      <td>&lt;a href=\"http://twitter.com/download/android\" rel=\"nofollow\"&gt;Twitter for Android&lt;/a&gt;</td>\n",
       "      <td>NaN</td>\n",
       "      <td>...</td>\n",
       "      <td>12</td>\n",
       "      <td>27</td>\n",
       "      <td>False</td>\n",
       "      <td>False</td>\n",
       "      <td>en</td>\n",
       "      <td>NaN</td>\n",
       "      <td>NaN</td>\n",
       "      <td>NaN</td>\n",
       "      <td>0.0</td>\n",
       "      <td>{'media': [{'id': 1292248932433764353, 'id_str': '1292248932433764353', 'indices': [263, 286], 'media_url': 'http://pbs.twimg.com/media/Ee79jrMXoAE64Q8.jpg', 'media_url_https': 'https://pbs.twimg.com/media/Ee79jrMXoAE64Q8.jpg', 'url': 'https://t.co/zeOe511KdM', 'display_url': 'pic.twitter.com/zeOe511KdM', 'expanded_url': 'https://twitter.com/PatFNelson/status/1292248938758668288/photo/1', 'type': 'photo', 'sizes': {'large': {'w': 1440, 'h': 1440, 'resize': 'fit'}, 'thumb': {'w': 150, 'h': 150, 'resize': 'crop'}, 'medium': {'w': 1200, 'h': 1200, 'resize': 'fit'}, 'small': {'w': 680, 'h': 680, 'resize': 'fit'}}}, {'id': 1292248936665751552, 'id_str': '1292248936665751552', 'indices': [263, 286], 'media_url': 'http://pbs.twimg.com/media/Ee79j69WoAAJsSF.jpg', 'media_url_https': 'https://pbs.twimg.com/media/Ee79j69WoAAJsSF.jpg', 'url': 'https://t.co/zeOe511KdM', 'display_url': 'pic.twitter.com/zeOe511KdM', 'expanded_url': 'https://twitter.com/PatFNelson/status/1292248938758668288/photo/...</td>\n",
       "    </tr>\n",
       "    <tr>\n",
       "      <th>4</th>\n",
       "      <td>2020-08-08 23:58:37+00:00</td>\n",
       "      <td>1292248886090674176</td>\n",
       "      <td>1292248886090674176</td>\n",
       "      <td>Right wingers are literally brain dead. They’ve convinced all these fools that everybody who dies from covid is actually dying from underlying conditions 😂 https://t.co/3MW2xpKlpV</td>\n",
       "      <td>False</td>\n",
       "      <td>[0, 155]</td>\n",
       "      <td>{'hashtags': [], 'symbols': [], 'user_mentions': [], 'urls': [{'url': 'https://t.co/3MW2xpKlpV', 'expanded_url': 'https://twitter.com/Disorganised1/status/1292247939910336513', 'display_url': 'twitter.com/Disorganised1/…', 'indices': [156, 179]}]}</td>\n",
       "      <td>{'iso_language_code': 'en', 'result_type': 'recent'}</td>\n",
       "      <td>&lt;a href=\"http://twitter.com/#!/download/ipad\" rel=\"nofollow\"&gt;Twitter for iPad&lt;/a&gt;</td>\n",
       "      <td>NaN</td>\n",
       "      <td>...</td>\n",
       "      <td>1</td>\n",
       "      <td>4</td>\n",
       "      <td>False</td>\n",
       "      <td>False</td>\n",
       "      <td>en</td>\n",
       "      <td>1.292248e+18</td>\n",
       "      <td>1.292248e+18</td>\n",
       "      <td>{'created_at': 'Sat Aug 08 23:54:52 +0000 2020', 'id': 1292247939910336513, 'id_str': '1292247939910336513', 'full_text': '@SmugAnarch @J0ePublic @WestminsterWAG You just want to believe anything that supports what you think. 86 children have not died of Covid in America - they may have died with it - but not of it.', 'truncated': False, 'display_text_range': [39, 194], 'entities': {'hashtags': [], 'symbols': [], 'user_mentions': [{'screen_name': 'SmugAnarch', 'name': 'The American Dream', 'id': 1228448943270322176, 'id_str': '1228448943270322176', 'indices': [0, 11]}, {'screen_name': 'J0ePublic', 'name': 'Mark. 🎗', 'id': 2409516458, 'id_str': '2409516458', 'indices': [12, 22]}, {'screen_name': 'WestminsterWAG', 'name': 'Sarah Vine', 'id': 712330422395543552, 'id_str': '712330422395543552', 'indices': [23, 38]}], 'urls': []}, 'metadata': {'iso_language_code': 'en', 'result_type': 'recent'}, 'source': '&lt;a href=\"https://mobile.twitter.com\" rel=\"nofollow\"&gt;Twitter Web App&lt;/a&gt;', 'in_rep...</td>\n",
       "      <td>0.0</td>\n",
       "      <td>NaN</td>\n",
       "    </tr>\n",
       "  </tbody>\n",
       "</table>\n",
       "<p>5 rows × 30 columns</p>\n",
       "</div>"
      ],
      "text/plain": [
       "                 created_at                   id               id_str                                                                                                                                                                                                                                                                                       full_text  truncated display_text_range                                                                                                                                                                                                                                                                                                                                                                                                                                                                                                                                                                                                                                                                                                                                                                                                                                    entities                                              metadata                                                                                source  in_reply_to_status_id  ...  retweet_count  favorite_count  favorited retweeted lang quoted_status_id quoted_status_id_str                                                                                                                                                                                                                                                                                                                                                                                                                                                                                                                                                                                                                                                                                                                                                                                                                                                                                                                                                                                                                            quoted_status  possibly_sensitive                                                                                                                                                                                                                                                                                                                                                                                                                                                                                                                                                                                                                                                                                                                                                                                                                                                                                                                                                                                                                        extended_entities\n",
       "0 2020-08-08 23:59:41+00:00  1292249150797623297  1292249150797623296          @drrajivb Hi Dr. Bhatia. My wife and I are having some work done to our attic after some fire damage. There will be various workers in our house (mostly attic) for a week or so. Even if they are wearing PPE, should I worry about any Covid virus in the house before we move back?      False           [0, 278]                                                                                                                                                                                                                                                                                                                                                                                                                                                                                                                                                                                                                                                    {'hashtags': [], 'symbols': [], 'user_mentions': [{'screen_name': 'drrajivb', 'name': 'Rajiv Bhatia, MD MPH', 'id': 1642187461, 'id_str': '1642187461', 'indices': [0, 9]}], 'urls': []}  {'iso_language_code': 'en', 'result_type': 'recent'}    <a href=\"http://twitter.com/download/iphone\" rel=\"nofollow\">Twitter for iPhone</a>                    NaN  ...              0               0      False     False   en              NaN                  NaN                                                                                                                                                                                                                                                                                                                                                                                                                                                                                                                                                                                                                                                                                                                                                                                                                                                                                                                                                                                                                                      NaN                 NaN                                                                                                                                                                                                                                                                                                                                                                                                                                                                                                                                                                                                                                                                                                                                                                                                                                                                                                                                                                                                                                      NaN\n",
       "1 2020-08-08 23:59:25+00:00  1292249086666498048  1292249086666498048                                                                                                                             The RNC has spent $20 million to prevent voting. In a pandemic during a depression. Someone woke up and thought, we need to prevent voting. https://t.co/c1KGjZiGRT      False           [0, 139]                                                                                                                                                                                                                                                                                                                                                                                                                                                                                                                                                                                       {'hashtags': [], 'symbols': [], 'user_mentions': [], 'urls': [{'url': 'https://t.co/c1KGjZiGRT', 'expanded_url': 'https://twitter.com/radleybalko/status/1292214431850659840', 'display_url': 'twitter.com/radleybalko/st…', 'indices': [140, 163]}]}  {'iso_language_code': 'en', 'result_type': 'recent'}    <a href=\"http://twitter.com/download/iphone\" rel=\"nofollow\">Twitter for iPhone</a>                    NaN  ...              0               5      False     False   en     1.292214e+18         1.292214e+18  {'created_at': 'Sat Aug 08 21:41:43 +0000 2020', 'id': 1292214431850659840, 'id_str': '1292214431850659840', 'full_text': 'This is getting really goddamned dangerous. A sitting president is trying to change the rules mid-campaign, by fiat, as he trails in the polls, based on utter lies about voter fraud. This is some straight-up autocrat bullshit. \n",
       "\n",
       "https://t.co/nctCqki2fP', 'truncated': False, 'display_text_range': [0, 252], 'entities': {'hashtags': [], 'symbols': [], 'user_mentions': [], 'urls': [{'url': 'https://t.co/nctCqki2fP', 'expanded_url': 'https://www.politico.com/news/2020/08/08/trump-wants-to-cut-mail-in-voting-the-republican-machine-is-helping-him-392428', 'display_url': 'politico.com/news/2020/08/0…', 'indices': [229, 252]}]}, 'metadata': {'iso_language_code': 'en', 'result_type': 'recent'}, 'source': '<a href=\"http://twitter.com/download/iphone\" rel=\"nofollow\">Twitter for iPhone</a>', 'in_reply_to_status_id': None, 'in_reply_to_status_id_str': None, 'in_reply_to_user...                 0.0                                                                                                                                                                                                                                                                                                                                                                                                                                                                                                                                                                                                                                                                                                                                                                                                                                                                                                                                                                                                                                      NaN\n",
       "2 2020-08-08 23:59:05+00:00  1292249003841785856  1292249003841785856                                                                                                                         Niggas be like I want some dick but I can't host and I'm not mobile...its 2020 and we're in the middle of a pandemic,learn some survival skills https://t.co/VRriaS8qPD      False           [0, 143]                                                                                                        {'hashtags': [], 'symbols': [], 'user_mentions': [], 'urls': [], 'media': [{'id': 1292248992106131465, 'id_str': '1292248992106131465', 'indices': [144, 167], 'media_url': 'http://pbs.twimg.com/tweet_video_thumb/Ee79nJfXsAkGoiI.jpg', 'media_url_https': 'https://pbs.twimg.com/tweet_video_thumb/Ee79nJfXsAkGoiI.jpg', 'url': 'https://t.co/VRriaS8qPD', 'display_url': 'pic.twitter.com/VRriaS8qPD', 'expanded_url': 'https://twitter.com/mylifendacloset/status/1292249003841785856/photo/1', 'type': 'photo', 'sizes': {'medium': {'w': 480, 'h': 270, 'resize': 'fit'}, 'thumb': {'w': 150, 'h': 150, 'resize': 'crop'}, 'small': {'w': 480, 'h': 270, 'resize': 'fit'}, 'large': {'w': 480, 'h': 270, 'resize': 'fit'}}}]}  {'iso_language_code': 'en', 'result_type': 'recent'}  <a href=\"http://twitter.com/download/android\" rel=\"nofollow\">Twitter for Android</a>                    NaN  ...              0               1      False     False   en              NaN                  NaN                                                                                                                                                                                                                                                                                                                                                                                                                                                                                                                                                                                                                                                                                                                                                                                                                                                                                                                                                                                                                                      NaN                 0.0                                                                                                                                                                                        {'media': [{'id': 1292248992106131465, 'id_str': '1292248992106131465', 'indices': [144, 167], 'media_url': 'http://pbs.twimg.com/tweet_video_thumb/Ee79nJfXsAkGoiI.jpg', 'media_url_https': 'https://pbs.twimg.com/tweet_video_thumb/Ee79nJfXsAkGoiI.jpg', 'url': 'https://t.co/VRriaS8qPD', 'display_url': 'pic.twitter.com/VRriaS8qPD', 'expanded_url': 'https://twitter.com/mylifendacloset/status/1292249003841785856/photo/1', 'type': 'animated_gif', 'sizes': {'medium': {'w': 480, 'h': 270, 'resize': 'fit'}, 'thumb': {'w': 150, 'h': 150, 'resize': 'crop'}, 'small': {'w': 480, 'h': 270, 'resize': 'fit'}, 'large': {'w': 480, 'h': 270, 'resize': 'fit'}}, 'video_info': {'aspect_ratio': [16, 9], 'variants': [{'bitrate': 0, 'content_type': 'video/mp4', 'url': 'https://video.twimg.com/tweet_video/Ee79nJfXsAkGoiI.mp4'}]}}]}\n",
       "3 2020-08-08 23:58:50+00:00  1292248938758668288  1292248938758668288  You really can't make this stuff up. As Columbia County suffers a #COVID19 spike due to golfing events. Sen. Jordan shows us just what those events looked like by attending a political golf event in Easton with NO MASKS and NO SOCIAL DISTANCING. #NewYork #MaskUp https://t.co/zeOe511KdM      False           [0, 262]  {'hashtags': [{'text': 'COVID19', 'indices': [66, 74]}, {'text': 'NewYork', 'indices': [246, 254]}, {'text': 'MaskUp', 'indices': [255, 262]}], 'symbols': [], 'user_mentions': [], 'urls': [], 'media': [{'id': 1292248932433764353, 'id_str': '1292248932433764353', 'indices': [263, 286], 'media_url': 'http://pbs.twimg.com/media/Ee79jrMXoAE64Q8.jpg', 'media_url_https': 'https://pbs.twimg.com/media/Ee79jrMXoAE64Q8.jpg', 'url': 'https://t.co/zeOe511KdM', 'display_url': 'pic.twitter.com/zeOe511KdM', 'expanded_url': 'https://twitter.com/PatFNelson/status/1292248938758668288/photo/1', 'type': 'photo', 'sizes': {'large': {'w': 1440, 'h': 1440, 'resize': 'fit'}, 'thumb': {'w': 150, 'h': 150, 'resize': 'crop'}, 'medium': {'w': 1200, 'h': 1200, 'resize': 'fit'}, 'small': {'w': 680, 'h': 680, 'resize': 'fit'}}}]}  {'iso_language_code': 'en', 'result_type': 'recent'}  <a href=\"http://twitter.com/download/android\" rel=\"nofollow\">Twitter for Android</a>                    NaN  ...             12              27      False     False   en              NaN                  NaN                                                                                                                                                                                                                                                                                                                                                                                                                                                                                                                                                                                                                                                                                                                                                                                                                                                                                                                                                                                                                                      NaN                 0.0  {'media': [{'id': 1292248932433764353, 'id_str': '1292248932433764353', 'indices': [263, 286], 'media_url': 'http://pbs.twimg.com/media/Ee79jrMXoAE64Q8.jpg', 'media_url_https': 'https://pbs.twimg.com/media/Ee79jrMXoAE64Q8.jpg', 'url': 'https://t.co/zeOe511KdM', 'display_url': 'pic.twitter.com/zeOe511KdM', 'expanded_url': 'https://twitter.com/PatFNelson/status/1292248938758668288/photo/1', 'type': 'photo', 'sizes': {'large': {'w': 1440, 'h': 1440, 'resize': 'fit'}, 'thumb': {'w': 150, 'h': 150, 'resize': 'crop'}, 'medium': {'w': 1200, 'h': 1200, 'resize': 'fit'}, 'small': {'w': 680, 'h': 680, 'resize': 'fit'}}}, {'id': 1292248936665751552, 'id_str': '1292248936665751552', 'indices': [263, 286], 'media_url': 'http://pbs.twimg.com/media/Ee79j69WoAAJsSF.jpg', 'media_url_https': 'https://pbs.twimg.com/media/Ee79j69WoAAJsSF.jpg', 'url': 'https://t.co/zeOe511KdM', 'display_url': 'pic.twitter.com/zeOe511KdM', 'expanded_url': 'https://twitter.com/PatFNelson/status/1292248938758668288/photo/...\n",
       "4 2020-08-08 23:58:37+00:00  1292248886090674176  1292248886090674176                                                                                                             Right wingers are literally brain dead. They’ve convinced all these fools that everybody who dies from covid is actually dying from underlying conditions 😂 https://t.co/3MW2xpKlpV      False           [0, 155]                                                                                                                                                                                                                                                                                                                                                                                                                                                                                                                                                                                     {'hashtags': [], 'symbols': [], 'user_mentions': [], 'urls': [{'url': 'https://t.co/3MW2xpKlpV', 'expanded_url': 'https://twitter.com/Disorganised1/status/1292247939910336513', 'display_url': 'twitter.com/Disorganised1/…', 'indices': [156, 179]}]}  {'iso_language_code': 'en', 'result_type': 'recent'}     <a href=\"http://twitter.com/#!/download/ipad\" rel=\"nofollow\">Twitter for iPad</a>                    NaN  ...              1               4      False     False   en     1.292248e+18         1.292248e+18  {'created_at': 'Sat Aug 08 23:54:52 +0000 2020', 'id': 1292247939910336513, 'id_str': '1292247939910336513', 'full_text': '@SmugAnarch @J0ePublic @WestminsterWAG You just want to believe anything that supports what you think. 86 children have not died of Covid in America - they may have died with it - but not of it.', 'truncated': False, 'display_text_range': [39, 194], 'entities': {'hashtags': [], 'symbols': [], 'user_mentions': [{'screen_name': 'SmugAnarch', 'name': 'The American Dream', 'id': 1228448943270322176, 'id_str': '1228448943270322176', 'indices': [0, 11]}, {'screen_name': 'J0ePublic', 'name': 'Mark. 🎗', 'id': 2409516458, 'id_str': '2409516458', 'indices': [12, 22]}, {'screen_name': 'WestminsterWAG', 'name': 'Sarah Vine', 'id': 712330422395543552, 'id_str': '712330422395543552', 'indices': [23, 38]}], 'urls': []}, 'metadata': {'iso_language_code': 'en', 'result_type': 'recent'}, 'source': '<a href=\"https://mobile.twitter.com\" rel=\"nofollow\">Twitter Web App</a>', 'in_rep...                 0.0                                                                                                                                                                                                                                                                                                                                                                                                                                                                                                                                                                                                                                                                                                                                                                                                                                                                                                                                                                                                                                      NaN\n",
       "\n",
       "[5 rows x 30 columns]"
      ]
     },
     "execution_count": 187,
     "metadata": {},
     "output_type": "execute_result"
    }
   ],
   "source": [
    "import pandas as pd\n",
    "tweets = pd.read_json ('data_final.json', lines = True)\n",
    "tweets.head()"
   ]
  },
  {
   "cell_type": "code",
   "execution_count": 180,
   "metadata": {},
   "outputs": [
    {
     "data": {
      "text/plain": [
       "Index(['created_at', 'id', 'id_str', 'full_text', 'truncated', 'display_text_range', 'entities', 'metadata', 'source', 'in_reply_to_status_id', 'in_reply_to_status_id_str', 'in_reply_to_user_id', 'in_reply_to_user_id_str', 'in_reply_to_screen_name', 'user', 'geo', 'coordinates', 'place', 'contributors', 'is_quote_status', 'retweet_count', 'favorite_count', 'favorited', 'retweeted', 'lang', 'quoted_status_id', 'quoted_status_id_str', 'quoted_status', 'possibly_sensitive', 'extended_entities', 'sentiment'], dtype='object')"
      ]
     },
     "execution_count": 180,
     "metadata": {},
     "output_type": "execute_result"
    }
   ],
   "source": [
    "tweets.columns"
   ]
  },
  {
   "cell_type": "code",
   "execution_count": 198,
   "metadata": {},
   "outputs": [
    {
     "data": {
      "text/plain": [
       "0                {'id': '5c6bd208d7ddf9f6', 'url': 'https://api.twitter.com/1.1/geo/id/5c6bd208d7ddf9f6.json', 'place_type': 'city', 'name': 'Cary', 'full_name': 'Cary, NC', 'country_code': 'US', 'country': 'United States', 'contained_within': [], 'bounding_box': {'type': 'Polygon', 'coordinates': [[[-78.9448945, 35.6443837], [-78.7291467, 35.6443837], [-78.7291467, 35.867993], [-78.9448945, 35.867993]]]}, 'attributes': {}}\n",
       "1    {'id': 'fbd6d2f5a4e4a15e', 'url': 'https://api.twitter.com/1.1/geo/id/fbd6d2f5a4e4a15e.json', 'place_type': 'admin', 'name': 'California', 'full_name': 'California, USA', 'country_code': 'US', 'country': 'United States', 'contained_within': [], 'bounding_box': {'type': 'Polygon', 'coordinates': [[[-124.482003, 32.528832], [-114.131212, 32.528832], [-114.131212, 42.009519], [-124.482003, 42.009519]]]}, 'attributes': {}}\n",
       "2                  {'id': 'cb74aaf709812e0f', 'url': 'https://api.twitter.com/1.1/geo/id/cb74aaf709812e0f.json', 'place_type': 'city', 'name': 'Tulsa', 'full_name': 'Tulsa, OK', 'country_code': 'US', 'country': 'United States', 'contained_within': [], 'bounding_box': {'type': 'Polygon', 'coordinates': [[[-96.0656278, 35.968624], [-95.761656, 35.968624], [-95.761656, 36.250159], [-96.0656278, 36.250159]]]}, 'attributes': {}}\n",
       "3        {'id': '01d62f216bc2c949', 'url': 'https://api.twitter.com/1.1/geo/id/01d62f216bc2c949.json', 'place_type': 'city', 'name': 'Stillwater', 'full_name': 'Stillwater, NY', 'country_code': 'US', 'country': 'United States', 'contained_within': [], 'bounding_box': {'type': 'Polygon', 'coordinates': [[[-73.698693, 42.9091943], [-73.630371, 42.9091943], [-73.630371, 42.959595], [-73.698693, 42.959595]]]}, 'attributes': {}}\n",
       "4      {'id': 'a592bd6ceb1319f7', 'url': 'https://api.twitter.com/1.1/geo/id/a592bd6ceb1319f7.json', 'place_type': 'city', 'name': 'San Diego', 'full_name': 'San Diego, CA', 'country_code': 'US', 'country': 'United States', 'contained_within': [], 'bounding_box': {'type': 'Polygon', 'coordinates': [[[-117.282538, 32.53962], [-116.9274403, 32.53962], [-116.9274403, 33.0804044], [-117.282538, 33.0804044]]]}, 'attributes': {}}\n",
       "Name: place, dtype: object"
      ]
     },
     "execution_count": 198,
     "metadata": {},
     "output_type": "execute_result"
    }
   ],
   "source": [
    "tweets.place.head()"
   ]
  },
  {
   "cell_type": "code",
   "execution_count": 155,
   "metadata": {},
   "outputs": [],
   "source": [
    "from textblob import TextBlob\n",
    "import re\n",
    "\n",
    "class TweetAnalyzer():\n",
    "    \"\"\"\n",
    "    Functionality for analyzing and categorizing content from tweets.\n",
    "    \"\"\"\n",
    "\n",
    "    def clean_tweet(self, tweet):\n",
    "        return ' '.join(re.sub(\"(@[A-Za-z0-9]+)|([^0-9A-Za-z \\t])|(\\w+:\\/\\/\\S+)\", \" \", tweet).split())\n",
    "\n",
    "    def analyze_sentiment(self, tweet):\n",
    "        analysis = TextBlob(self.clean_tweet(tweet))\n",
    "        \n",
    "        if analysis.sentiment.polarity > 0:\n",
    "            return 1\n",
    "        elif analysis.sentiment.polarity == 0:\n",
    "            return 0\n",
    "        else:\n",
    "            return -1\n",
    "        \n",
    "tweet_analyzer = TweetAnalyzer()\n",
    "tweets['sentiment'] = np.array([tweet_analyzer.analyze_sentiment(tweet) for tweet in tweets['full_text']])"
   ]
  },
  {
   "cell_type": "code",
   "execution_count": 174,
   "metadata": {},
   "outputs": [
    {
     "data": {
      "text/html": [
       "<div>\n",
       "<style scoped>\n",
       "    .dataframe tbody tr th:only-of-type {\n",
       "        vertical-align: middle;\n",
       "    }\n",
       "\n",
       "    .dataframe tbody tr th {\n",
       "        vertical-align: top;\n",
       "    }\n",
       "\n",
       "    .dataframe thead th {\n",
       "        text-align: right;\n",
       "    }\n",
       "</style>\n",
       "<table border=\"1\" class=\"dataframe\">\n",
       "  <thead>\n",
       "    <tr style=\"text-align: right;\">\n",
       "      <th></th>\n",
       "      <th>sentiment</th>\n",
       "      <th>full_text</th>\n",
       "    </tr>\n",
       "  </thead>\n",
       "  <tbody>\n",
       "    <tr>\n",
       "      <th>0</th>\n",
       "      <td>1</td>\n",
       "      <td>@drrajivb Hi Dr. Bhatia. My wife and I are having some work done to our attic after some fire damage. There will be various workers in our house (mostly attic) for a week or so. Even if they are wearing PPE, should I worry about any Covid virus in the house before we move back?</td>\n",
       "    </tr>\n",
       "    <tr>\n",
       "      <th>1</th>\n",
       "      <td>-1</td>\n",
       "      <td>The RNC has spent $20 million to prevent voting. In a pandemic during a depression. Someone woke up and thought, we need to prevent voting. https://t.co/c1KGjZiGRT</td>\n",
       "    </tr>\n",
       "    <tr>\n",
       "      <th>2</th>\n",
       "      <td>0</td>\n",
       "      <td>Niggas be like I want some dick but I can't host and I'm not mobile...its 2020 and we're in the middle of a pandemic,learn some survival skills https://t.co/VRriaS8qPD</td>\n",
       "    </tr>\n",
       "    <tr>\n",
       "      <th>3</th>\n",
       "      <td>-1</td>\n",
       "      <td>You really can't make this stuff up. As Columbia County suffers a #COVID19 spike due to golfing events. Sen. Jordan shows us just what those events looked like by attending a political golf event in Easton with NO MASKS and NO SOCIAL DISTANCING. #NewYork #MaskUp https://t.co/zeOe511KdM</td>\n",
       "    </tr>\n",
       "    <tr>\n",
       "      <th>4</th>\n",
       "      <td>1</td>\n",
       "      <td>Right wingers are literally brain dead. They’ve convinced all these fools that everybody who dies from covid is actually dying from underlying conditions 😂 https://t.co/3MW2xpKlpV</td>\n",
       "    </tr>\n",
       "    <tr>\n",
       "      <th>5</th>\n",
       "      <td>0</td>\n",
       "      <td>@JohnCornyn A teacher died in Mississippi from Covid-19. At school. Pass it on. #teachersareessential</td>\n",
       "    </tr>\n",
       "    <tr>\n",
       "      <th>6</th>\n",
       "      <td>1</td>\n",
       "      <td>@larrymark @MarkHertling 🖖🚑⛑️🆘🧤So today I met my role models. 🕊️ @Malala https://t.co/Pu1fiLZbZC\\n\\n and in U.S,  we have Nancy Pelosi💞 and Covid19 First Responders\\n\\nHowever, our First Responders🖖🙏🔥🕊️ who care for us, need QUALITY  P P E!!    and\\n             😠MASKS😠</td>\n",
       "    </tr>\n",
       "    <tr>\n",
       "      <th>7</th>\n",
       "      <td>1</td>\n",
       "      <td>@MikeGriffith32 I also think anyone claiming those risks are somehow equivalent to the risk of COVID are kidding themselves. \\n\\nYes for young healthy people the risk is low but it’s also not just about live or die. Some people have had lung scarring etc. It’s complicated</td>\n",
       "    </tr>\n",
       "    <tr>\n",
       "      <th>8</th>\n",
       "      <td>1</td>\n",
       "      <td>Let’s continue to take action. #NextGenFlorida @NextGenAmerica #SaveFloridaFromCOVID https://t.co/0JT1LQFH8q</td>\n",
       "    </tr>\n",
       "    <tr>\n",
       "      <th>9</th>\n",
       "      <td>1</td>\n",
       "      <td>@BhavyaRehaniMD @MVP_Pediatric @DrCorriel @AmyOxentenkoMD @JuanGRipoll1 @emilysharpe @dremilym @MSharifpourMD @PayamKashiMD @TheBlondeRN @tomfolanmd @Sarah_Mojarad @kari_jerge @TheLuthierMD @xiaofei_lin @avalonii @OTirmizi @NurseStrider @jointdocShields @_AndrewM_ @sw4618 @shariatPR @MigsRunner @ScottNevins @MaxHockstein @knicholspharm @bfaloyeMD @ebmalinzakMD @RobertWhiteMD @ruthi_landau @LimGrapes @noolslucas @CarolynWeiniger @SMoeschlerMD @r_wanderwoman @OlavemCarolina @LindsayLWarner @lmatzek @DrMJoyner @medicinerevived @CircleofHope4u @ThePrimaryCarer @DrHowardLiu @SadiaFMD @JillGrimesMD Thanks for nominating me @BhavyaRehaniMD  \\n\\nShare 4 pics of the pandemic. No descriptions. Nominate 4 people.\\n \\n@AMBertolotti \\n@EulertJ \\n@Garedg23 \\n@MartaFarrero https://t.co/MF9eyV6DbD</td>\n",
       "    </tr>\n",
       "    <tr>\n",
       "      <th>10</th>\n",
       "      <td>-1</td>\n",
       "      <td>Spent a couple days in the hospital this week and got a nasal swab COVID test on admission. Not a humble brag, but what’s the large deal? It did not bother me in the least. \\n\\nDoes this mean i don’t have any feeling in my head?</td>\n",
       "    </tr>\n",
       "    <tr>\n",
       "      <th>11</th>\n",
       "      <td>-1</td>\n",
       "      <td>Funny how we thought corona lasting till August was a completely absurd idea🤡 https://t.co/Kh0lkLS1cg</td>\n",
       "    </tr>\n",
       "    <tr>\n",
       "      <th>12</th>\n",
       "      <td>0</td>\n",
       "      <td>@hybibliophiliac My library used to allow 6 and upped to 10 because of the pandemic! What’s going on over there?</td>\n",
       "    </tr>\n",
       "    <tr>\n",
       "      <th>13</th>\n",
       "      <td>-1</td>\n",
       "      <td>Just found out Ozzie’s may have permanently closed because of the coronavirus don’t text 😔😔😔</td>\n",
       "    </tr>\n",
       "    <tr>\n",
       "      <th>14</th>\n",
       "      <td>0</td>\n",
       "      <td>Geez. How do you name a business by mistake? I’d be ticked if I were a business owner and my place of operation was incorrectly linked to COVID-19. https://t.co/UupROQbfRY</td>\n",
       "    </tr>\n",
       "    <tr>\n",
       "      <th>15</th>\n",
       "      <td>-1</td>\n",
       "      <td>@sftballfreak @Cajunran1 @masterskey @kkingjr17 @ReedMCooper @mmpadellan @realDonaldTrump @FLOTUS @kitcat1111 Wrong, both governors are liberal and that's why they are rolling back on openings or closing businesses because of covid.</td>\n",
       "    </tr>\n",
       "    <tr>\n",
       "      <th>16</th>\n",
       "      <td>0</td>\n",
       "      <td>COVID ends November 3rd</td>\n",
       "    </tr>\n",
       "    <tr>\n",
       "      <th>17</th>\n",
       "      <td>0</td>\n",
       "      <td>Dane Kelly with his second of the season. He said his goal for the season was 20 goals. That was also set in January before the pandemic and the condensed season. https://t.co/btBXPGh1yB</td>\n",
       "    </tr>\n",
       "    <tr>\n",
       "      <th>18</th>\n",
       "      <td>1</td>\n",
       "      <td>I really don't say this lightly. Is there intent to get the institution on full blown Covid? Jesus quit co-mingling. This threatening dictatorship is BS. People can only take so much. Psycho games and death roulette must stop! https://t.co/fSVLegyNlB</td>\n",
       "    </tr>\n",
       "    <tr>\n",
       "      <th>19</th>\n",
       "      <td>-1</td>\n",
       "      <td>I wanna get all dressed up and go to the club 😩!!! Fuck covid</td>\n",
       "    </tr>\n",
       "  </tbody>\n",
       "</table>\n",
       "</div>"
      ],
      "text/plain": [
       "    sentiment                                                                                                                                                                                                                                                                                                                                                                                                                                                                                                                                                                                                                                                                                                                                                                                                                 full_text\n",
       "0           1                                                                                                                                                                                                                                                                                                                                                                                                                                                                                                                                    @drrajivb Hi Dr. Bhatia. My wife and I are having some work done to our attic after some fire damage. There will be various workers in our house (mostly attic) for a week or so. Even if they are wearing PPE, should I worry about any Covid virus in the house before we move back?\n",
       "1          -1                                                                                                                                                                                                                                                                                                                                                                                                                                                                                                                                                                                                                                                       The RNC has spent $20 million to prevent voting. In a pandemic during a depression. Someone woke up and thought, we need to prevent voting. https://t.co/c1KGjZiGRT\n",
       "2           0                                                                                                                                                                                                                                                                                                                                                                                                                                                                                                                                                                                                                                                   Niggas be like I want some dick but I can't host and I'm not mobile...its 2020 and we're in the middle of a pandemic,learn some survival skills https://t.co/VRriaS8qPD\n",
       "3          -1                                                                                                                                                                                                                                                                                                                                                                                                                                                                                                                            You really can't make this stuff up. As Columbia County suffers a #COVID19 spike due to golfing events. Sen. Jordan shows us just what those events looked like by attending a political golf event in Easton with NO MASKS and NO SOCIAL DISTANCING. #NewYork #MaskUp https://t.co/zeOe511KdM\n",
       "4           1                                                                                                                                                                                                                                                                                                                                                                                                                                                                                                                                                                                                                                       Right wingers are literally brain dead. They’ve convinced all these fools that everybody who dies from covid is actually dying from underlying conditions 😂 https://t.co/3MW2xpKlpV\n",
       "5           0                                                                                                                                                                                                                                                                                                                                                                                                                                                                                                                                                                                                                                                                                                                     @JohnCornyn A teacher died in Mississippi from Covid-19. At school. Pass it on. #teachersareessential\n",
       "6           1                                                                                                                                                                                                                                                                                                                                                                                                                                                                                                                                            @larrymark @MarkHertling 🖖🚑⛑️🆘🧤So today I met my role models. 🕊️ @Malala https://t.co/Pu1fiLZbZC\\n\\n and in U.S,  we have Nancy Pelosi💞 and Covid19 First Responders\\n\\nHowever, our First Responders🖖🙏🔥🕊️ who care for us, need QUALITY  P P E!!    and\\n             😠MASKS😠\n",
       "7           1                                                                                                                                                                                                                                                                                                                                                                                                                                                                                                                                          @MikeGriffith32 I also think anyone claiming those risks are somehow equivalent to the risk of COVID are kidding themselves. \\n\\nYes for young healthy people the risk is low but it’s also not just about live or die. Some people have had lung scarring etc. It’s complicated\n",
       "8           1                                                                                                                                                                                                                                                                                                                                                                                                                                                                                                                                                                                                                                                                                                              Let’s continue to take action. #NextGenFlorida @NextGenAmerica #SaveFloridaFromCOVID https://t.co/0JT1LQFH8q\n",
       "9           1  @BhavyaRehaniMD @MVP_Pediatric @DrCorriel @AmyOxentenkoMD @JuanGRipoll1 @emilysharpe @dremilym @MSharifpourMD @PayamKashiMD @TheBlondeRN @tomfolanmd @Sarah_Mojarad @kari_jerge @TheLuthierMD @xiaofei_lin @avalonii @OTirmizi @NurseStrider @jointdocShields @_AndrewM_ @sw4618 @shariatPR @MigsRunner @ScottNevins @MaxHockstein @knicholspharm @bfaloyeMD @ebmalinzakMD @RobertWhiteMD @ruthi_landau @LimGrapes @noolslucas @CarolynWeiniger @SMoeschlerMD @r_wanderwoman @OlavemCarolina @LindsayLWarner @lmatzek @DrMJoyner @medicinerevived @CircleofHope4u @ThePrimaryCarer @DrHowardLiu @SadiaFMD @JillGrimesMD Thanks for nominating me @BhavyaRehaniMD  \\n\\nShare 4 pics of the pandemic. No descriptions. Nominate 4 people.\\n \\n@AMBertolotti \\n@EulertJ \\n@Garedg23 \\n@MartaFarrero https://t.co/MF9eyV6DbD\n",
       "10         -1                                                                                                                                                                                                                                                                                                                                                                                                                                                                                                                                                                                      Spent a couple days in the hospital this week and got a nasal swab COVID test on admission. Not a humble brag, but what’s the large deal? It did not bother me in the least. \\n\\nDoes this mean i don’t have any feeling in my head?\n",
       "11         -1                                                                                                                                                                                                                                                                                                                                                                                                                                                                                                                                                                                                                                                                                                                     Funny how we thought corona lasting till August was a completely absurd idea🤡 https://t.co/Kh0lkLS1cg\n",
       "12          0                                                                                                                                                                                                                                                                                                                                                                                                                                                                                                                                                                                                                                                                                                          @hybibliophiliac My library used to allow 6 and upped to 10 because of the pandemic! What’s going on over there?\n",
       "13         -1                                                                                                                                                                                                                                                                                                                                                                                                                                                                                                                                                                                                                                                                                                                              Just found out Ozzie’s may have permanently closed because of the coronavirus don’t text 😔😔😔\n",
       "14          0                                                                                                                                                                                                                                                                                                                                                                                                                                                                                                                                                                                                                                               Geez. How do you name a business by mistake? I’d be ticked if I were a business owner and my place of operation was incorrectly linked to COVID-19. https://t.co/UupROQbfRY\n",
       "15         -1                                                                                                                                                                                                                                                                                                                                                                                                                                                                                                                                                                                  @sftballfreak @Cajunran1 @masterskey @kkingjr17 @ReedMCooper @mmpadellan @realDonaldTrump @FLOTUS @kitcat1111 Wrong, both governors are liberal and that's why they are rolling back on openings or closing businesses because of covid.\n",
       "16          0                                                                                                                                                                                                                                                                                                                                                                                                                                                                                                                                                                                                                                                                                                                                                                                                   COVID ends November 3rd\n",
       "17          0                                                                                                                                                                                                                                                                                                                                                                                                                                                                                                                                                                                                                                Dane Kelly with his second of the season. He said his goal for the season was 20 goals. That was also set in January before the pandemic and the condensed season. https://t.co/btBXPGh1yB\n",
       "18          1                                                                                                                                                                                                                                                                                                                                                                                                                                                                                                                                                                I really don't say this lightly. Is there intent to get the institution on full blown Covid? Jesus quit co-mingling. This threatening dictatorship is BS. People can only take so much. Psycho games and death roulette must stop! https://t.co/fSVLegyNlB\n",
       "19         -1                                                                                                                                                                                                                                                                                                                                                                                                                                                                                                                                                                                                                                                                                                                                                             I wanna get all dressed up and go to the club 😩!!! Fuck covid"
      ]
     },
     "execution_count": 174,
     "metadata": {},
     "output_type": "execute_result"
    }
   ],
   "source": [
    "pd.set_option('display.max_colwidth',1000)\n",
    "tweets[['sentiment','full_text']].head(20)"
   ]
  },
  {
   "cell_type": "code",
   "execution_count": 175,
   "metadata": {},
   "outputs": [
    {
     "data": {
      "text/html": [
       "<div>\n",
       "<style scoped>\n",
       "    .dataframe tbody tr th:only-of-type {\n",
       "        vertical-align: middle;\n",
       "    }\n",
       "\n",
       "    .dataframe tbody tr th {\n",
       "        vertical-align: top;\n",
       "    }\n",
       "\n",
       "    .dataframe thead th {\n",
       "        text-align: right;\n",
       "    }\n",
       "</style>\n",
       "<table border=\"1\" class=\"dataframe\">\n",
       "  <thead>\n",
       "    <tr style=\"text-align: right;\">\n",
       "      <th></th>\n",
       "      <th>metadata</th>\n",
       "      <th>coordinates</th>\n",
       "      <th>place</th>\n",
       "    </tr>\n",
       "  </thead>\n",
       "  <tbody>\n",
       "    <tr>\n",
       "      <th>0</th>\n",
       "      <td>{'iso_language_code': 'en', 'result_type': 'recent'}</td>\n",
       "      <td>None</td>\n",
       "      <td>{'id': '5c6bd208d7ddf9f6', 'url': 'https://api.twitter.com/1.1/geo/id/5c6bd208d7ddf9f6.json', 'place_type': 'city', 'name': 'Cary', 'full_name': 'Cary, NC', 'country_code': 'US', 'country': 'United States', 'contained_within': [], 'bounding_box': {'type': 'Polygon', 'coordinates': [[[-78.9448945, 35.6443837], [-78.7291467, 35.6443837], [-78.7291467, 35.867993], [-78.9448945, 35.867993]]]}, 'attributes': {}}</td>\n",
       "    </tr>\n",
       "    <tr>\n",
       "      <th>1</th>\n",
       "      <td>{'iso_language_code': 'en', 'result_type': 'recent'}</td>\n",
       "      <td>None</td>\n",
       "      <td>{'id': 'fbd6d2f5a4e4a15e', 'url': 'https://api.twitter.com/1.1/geo/id/fbd6d2f5a4e4a15e.json', 'place_type': 'admin', 'name': 'California', 'full_name': 'California, USA', 'country_code': 'US', 'country': 'United States', 'contained_within': [], 'bounding_box': {'type': 'Polygon', 'coordinates': [[[-124.482003, 32.528832], [-114.131212, 32.528832], [-114.131212, 42.009519], [-124.482003, 42.009519]]]}, 'attributes': {}}</td>\n",
       "    </tr>\n",
       "    <tr>\n",
       "      <th>2</th>\n",
       "      <td>{'iso_language_code': 'en', 'result_type': 'recent'}</td>\n",
       "      <td>None</td>\n",
       "      <td>{'id': 'cb74aaf709812e0f', 'url': 'https://api.twitter.com/1.1/geo/id/cb74aaf709812e0f.json', 'place_type': 'city', 'name': 'Tulsa', 'full_name': 'Tulsa, OK', 'country_code': 'US', 'country': 'United States', 'contained_within': [], 'bounding_box': {'type': 'Polygon', 'coordinates': [[[-96.0656278, 35.968624], [-95.761656, 35.968624], [-95.761656, 36.250159], [-96.0656278, 36.250159]]]}, 'attributes': {}}</td>\n",
       "    </tr>\n",
       "    <tr>\n",
       "      <th>3</th>\n",
       "      <td>{'iso_language_code': 'en', 'result_type': 'recent'}</td>\n",
       "      <td>None</td>\n",
       "      <td>{'id': '01d62f216bc2c949', 'url': 'https://api.twitter.com/1.1/geo/id/01d62f216bc2c949.json', 'place_type': 'city', 'name': 'Stillwater', 'full_name': 'Stillwater, NY', 'country_code': 'US', 'country': 'United States', 'contained_within': [], 'bounding_box': {'type': 'Polygon', 'coordinates': [[[-73.698693, 42.9091943], [-73.630371, 42.9091943], [-73.630371, 42.959595], [-73.698693, 42.959595]]]}, 'attributes': {}}</td>\n",
       "    </tr>\n",
       "    <tr>\n",
       "      <th>4</th>\n",
       "      <td>{'iso_language_code': 'en', 'result_type': 'recent'}</td>\n",
       "      <td>None</td>\n",
       "      <td>{'id': 'a592bd6ceb1319f7', 'url': 'https://api.twitter.com/1.1/geo/id/a592bd6ceb1319f7.json', 'place_type': 'city', 'name': 'San Diego', 'full_name': 'San Diego, CA', 'country_code': 'US', 'country': 'United States', 'contained_within': [], 'bounding_box': {'type': 'Polygon', 'coordinates': [[[-117.282538, 32.53962], [-116.9274403, 32.53962], [-116.9274403, 33.0804044], [-117.282538, 33.0804044]]]}, 'attributes': {}}</td>\n",
       "    </tr>\n",
       "  </tbody>\n",
       "</table>\n",
       "</div>"
      ],
      "text/plain": [
       "                                               metadata coordinates                                                                                                                                                                                                                                                                                                                                                                                                                                   place\n",
       "0  {'iso_language_code': 'en', 'result_type': 'recent'}        None              {'id': '5c6bd208d7ddf9f6', 'url': 'https://api.twitter.com/1.1/geo/id/5c6bd208d7ddf9f6.json', 'place_type': 'city', 'name': 'Cary', 'full_name': 'Cary, NC', 'country_code': 'US', 'country': 'United States', 'contained_within': [], 'bounding_box': {'type': 'Polygon', 'coordinates': [[[-78.9448945, 35.6443837], [-78.7291467, 35.6443837], [-78.7291467, 35.867993], [-78.9448945, 35.867993]]]}, 'attributes': {}}\n",
       "1  {'iso_language_code': 'en', 'result_type': 'recent'}        None  {'id': 'fbd6d2f5a4e4a15e', 'url': 'https://api.twitter.com/1.1/geo/id/fbd6d2f5a4e4a15e.json', 'place_type': 'admin', 'name': 'California', 'full_name': 'California, USA', 'country_code': 'US', 'country': 'United States', 'contained_within': [], 'bounding_box': {'type': 'Polygon', 'coordinates': [[[-124.482003, 32.528832], [-114.131212, 32.528832], [-114.131212, 42.009519], [-124.482003, 42.009519]]]}, 'attributes': {}}\n",
       "2  {'iso_language_code': 'en', 'result_type': 'recent'}        None                {'id': 'cb74aaf709812e0f', 'url': 'https://api.twitter.com/1.1/geo/id/cb74aaf709812e0f.json', 'place_type': 'city', 'name': 'Tulsa', 'full_name': 'Tulsa, OK', 'country_code': 'US', 'country': 'United States', 'contained_within': [], 'bounding_box': {'type': 'Polygon', 'coordinates': [[[-96.0656278, 35.968624], [-95.761656, 35.968624], [-95.761656, 36.250159], [-96.0656278, 36.250159]]]}, 'attributes': {}}\n",
       "3  {'iso_language_code': 'en', 'result_type': 'recent'}        None      {'id': '01d62f216bc2c949', 'url': 'https://api.twitter.com/1.1/geo/id/01d62f216bc2c949.json', 'place_type': 'city', 'name': 'Stillwater', 'full_name': 'Stillwater, NY', 'country_code': 'US', 'country': 'United States', 'contained_within': [], 'bounding_box': {'type': 'Polygon', 'coordinates': [[[-73.698693, 42.9091943], [-73.630371, 42.9091943], [-73.630371, 42.959595], [-73.698693, 42.959595]]]}, 'attributes': {}}\n",
       "4  {'iso_language_code': 'en', 'result_type': 'recent'}        None    {'id': 'a592bd6ceb1319f7', 'url': 'https://api.twitter.com/1.1/geo/id/a592bd6ceb1319f7.json', 'place_type': 'city', 'name': 'San Diego', 'full_name': 'San Diego, CA', 'country_code': 'US', 'country': 'United States', 'contained_within': [], 'bounding_box': {'type': 'Polygon', 'coordinates': [[[-117.282538, 32.53962], [-116.9274403, 32.53962], [-116.9274403, 33.0804044], [-117.282538, 33.0804044]]]}, 'attributes': {}}"
      ]
     },
     "execution_count": 175,
     "metadata": {},
     "output_type": "execute_result"
    }
   ],
   "source": [
    "tweets[[\"metadata\",\"coordinates\",\"place\"]].head()"
   ]
  },
  {
   "cell_type": "code",
   "execution_count": null,
   "metadata": {},
   "outputs": [],
   "source": []
  }
 ],
 "metadata": {
  "kernelspec": {
   "display_name": "Python 3",
   "language": "python",
   "name": "python3"
  },
  "language_info": {
   "codemirror_mode": {
    "name": "ipython",
    "version": 3
   },
   "file_extension": ".py",
   "mimetype": "text/x-python",
   "name": "python",
   "nbconvert_exporter": "python",
   "pygments_lexer": "ipython3",
   "version": "3.8.2"
  }
 },
 "nbformat": 4,
 "nbformat_minor": 4
}
